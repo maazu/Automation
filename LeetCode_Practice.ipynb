{
  "nbformat": 4,
  "nbformat_minor": 0,
  "metadata": {
    "colab": {
      "provenance": [],
      "authorship_tag": "ABX9TyPS9e5Spr9t/eidXkrf/16G",
      "include_colab_link": true
    },
    "kernelspec": {
      "name": "python3",
      "display_name": "Python 3"
    },
    "language_info": {
      "name": "python"
    }
  },
  "cells": [
    {
      "cell_type": "markdown",
      "metadata": {
        "id": "view-in-github",
        "colab_type": "text"
      },
      "source": [
        "<a href=\"https://colab.research.google.com/github/maazu/Automation/blob/main/LeetCode_Practice.ipynb\" target=\"_parent\"><img src=\"https://colab.research.google.com/assets/colab-badge.svg\" alt=\"Open In Colab\"/></a>"
      ]
    },
    {
      "cell_type": "code",
      "execution_count": null,
      "metadata": {
        "colab": {
          "base_uri": "https://localhost:8080/"
        },
        "id": "0V2EkBzZcgHs",
        "outputId": "f5d649b0-dedd-4ae9-839e-f1b31dd50d01"
      },
      "outputs": [
        {
          "output_type": "stream",
          "name": "stdout",
          "text": [
            "Counter({'f': 2, 'v': 1, 'i': 1, 'e': 1, 'u': 1, 'r': 1, 'o': 1})\n",
            "{0: 0, 2: 0, 4: 1, 6: 0, 8: 0}\n",
            "{0: 0, 2: 0, 4: 1, 6: 0, 8: 0, 3: 0, 5: 1, 7: 0, 9: 0, 1: 0}\n",
            "\n",
            "\n",
            "\n",
            "\n",
            "4\n",
            "5\n",
            "\n",
            "\n",
            "\n",
            "\n",
            "Counter({'o': 3, 'e': 2, 'w': 1, 'z': 1, 't': 1, 'n': 1, 'r': 1})\n",
            "{0: 1, 2: 1, 4: 0, 6: 0, 8: 0}\n",
            "{0: 1, 2: 1, 4: 0, 6: 0, 8: 0, 3: 0, 5: 0, 7: 0, 9: 0, 1: 1}\n",
            "0\n",
            "1\n",
            "2\n",
            "\n",
            "\n",
            "\n",
            "\n",
            "\n",
            "\n",
            "\n",
            "45\n",
            "012\n"
          ]
        }
      ],
      "source": [
        "import collections\n",
        "'''\n",
        "Given a string s containing an out-of-order English representation of digits 0-9, return the digits in ascending order.\n",
        "Example 1:\n",
        "Input: s = \"owoztneoer\"\n",
        "Output: \"012\"\n",
        "\n",
        "Example 2:\n",
        "Input: s = \"fviefuro\"\n",
        "Output: \"45\"\n",
        "\n",
        "Constraints:\n",
        "\n",
        "1 <= s.length <= 105\n",
        "s[i] is one of the characters [\"e\",\"g\",\"f\",\"i\",\"h\",\"o\",\"n\",\"s\",\"r\",\"u\",\"t\",\"w\",\"v\",\"x\",\"z\"].\n",
        "s is guaranteed to be valid.\n",
        "'''\n",
        "\n",
        "# zero -> z      one -> o - count[0] - count[2] - count[4]\n",
        "# two -> w       three -> h - count[8]\n",
        "# four -> u      five -> f - count[4]\n",
        "# six -> x       seven -> v - count[5]\n",
        "# eight -> g     nine -> i - count[5] - count [6] - count[8]\n",
        "\n",
        "def originalDigits(s: str) -> str:\n",
        "        count = collections.Counter(s)\n",
        "        print(count)\n",
        "        n = {}\n",
        "\n",
        "        # Initial unique letters\n",
        "        # z w u x g\n",
        "        n[0] = count['z'] # zero\n",
        "        n[2] = count['w'] # two\n",
        "        n[4] = count['u'] # four\n",
        "        n[6] = count['x'] # six\n",
        "        n[8] = count['g'] # eight\n",
        "        print(n)\n",
        "\n",
        "        n[3] = count['h'] - n[8]\n",
        "        n[5] = count['f'] - n[4]\n",
        "        n[7] = count['v'] - n[5]\n",
        "        n[9] = count['i'] - n[5] - n[6] - n[8]\n",
        "        n[1] = count['o'] - n[0] - n[2] - n[4]\n",
        "        print(n)\n",
        "        output = \"\"\n",
        "        for i in range(10):\n",
        "            print(str(i) * n[i])\n",
        "            output += str(i) * n[i]\n",
        "        return output\n",
        "\n",
        "test1 = originalDigits('fviefuro')\n",
        "test2 = originalDigits('owoztneoer')\n",
        "\n",
        "print(test1)\n",
        "print(test2)"
      ]
    }
  ]
}